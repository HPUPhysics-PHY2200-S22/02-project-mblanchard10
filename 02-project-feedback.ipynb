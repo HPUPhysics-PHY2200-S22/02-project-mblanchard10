{
 "cells": [
  {
   "cell_type": "code",
   "execution_count": 1,
   "id": "cd6df9ab",
   "metadata": {},
   "outputs": [],
   "source": [
    "import numpy as np\n",
    "import matplotlib.pyplot as plt"
   ]
  },
  {
   "cell_type": "markdown",
   "id": "90fa464b",
   "metadata": {},
   "source": [
    "## Unit 02 Project\n",
    "\n",
    "The purpose of this \"mini project\" is to demonstrate that you can model realistic projectile motion, including drag and Magnus effect for example, and that you can fit a mathematical function to data and use the curve-fit parameters, as needed, in your model.\n",
    "\n",
    "Your project should:\n",
    "\n",
    "- clearly define the model that you are investigating.\n",
    "- use LaTeX to format mathematical equations in your narrative.\n",
    "- investigate changing parameters or initial conditions in your model.\n",
    "- validate your model by testing parameters or initial conditions for known outcomes.\n",
    "- use functions judiciously so you can rerun your model with different parameters or initial conditions.\n",
    "\n",
    "<div class=\"alert alert-success\">\n",
    "The mini-project should be of sufficient quality to post to github in your portfolio of work that can be shown to a potential employer.\n",
    "</div>\n",
    "\n",
    "\n",
    "## Grading Rubric\n",
    "\n",
    "Category | Needs Improvement (60-75%) | Good (75% - 90%) | Excellent (90%-100%)\n",
    ":---: | :--- | :--- | :---\n",
    "**Narrative** | There is very little narrative. Background information is not present or lacks detail. There is no story woven with the code. Mathematical markup is not used. No citations are included. | There is a narrative, but significant parts are missing. The writing does not flow. Sections headings are sparse. Mathematical markup is poor or insufficient. More and better citations are needed. | There is flow, and a clear storyline. Section headings are used to provide an outline. Mathematical markup is used correctly and sufficiently to display mathematics. Citations are sufficient in number and quality.\n",
    "**Code** | Code is missing or is not functional. Nothing is done to demonstrate that the code is operating correctly. Code is difficult to read. Results are missing or seriously incomplete. Visualization is not included. Units are inconsistent or incorrect. Algorithm is implemented incorrectly or the wrong algorithm chosen. There is significant error. | Code is mostly correct and the implementation or algorithm is a good method to use. Visualization is present, but titles and axes labels need improvement or visualization can be improved. Code is understandable and somewhat commented. Units are mostly consistent and correct.| The code runs flawlessly and is well-organized. The code is easy to read and understand. Units are indicated, consistent, and correct. Visualization is excellent. Techniques and algorithms are well-chosen and correctly implemented. Results are clear and understandable.\n",
    "**Difficulty** | The difficulty level is not a good match to one's ability. The project is either too difficult or too simple. | The difficulty level is good match to one's ability. | The difficulty is a big challenge, considering one's ablity.\n",
    "\n",
    "Assigned grades will be approximations based on this rubric and assigned weights to each category. In an open-ended project like this, grades have a lot of uncertainty.\n"
   ]
  },
  {
   "cell_type": "markdown",
   "id": "d893b3c3",
   "metadata": {},
   "source": [
    "## Project 1\n",
    "\n",
    "### Feedback\n",
    "\n",
    "Here are my thoughts as I worked through your notebook:\n",
    "\n",
    "- The introductory paragraph needs improvement. We should meet in person to construct, together, an improved paragraph that conveys the ideas you want to convey.\n",
    "- The writing can also be improved for the \"Data For a Singular Pitch\" section. I suggest adding a picture to illustrate the coordinate system you are using.\n",
    "- How does your coordinate system compare to the one used by Baseball Savant?\n",
    "- A link to Baseball Savant and a description of the page and pitcher referenced (for the speed and spinrate data) is needed.\n",
    "- You reference a side view (y vs. x). It would be great to show it, rather than simply describe it in words.\n",
    "- A view of the strike zone and the location of the ball when it crosses the plate would be great. You could even show where the ball would have crossed if there was no curve. The difference in where each one crosses $x=0$ would be a wonderful way to visualize the effect of the spinning ball on its trajectory. (*Note:* I see you attempted to include a visualization of the strike zone later in the notebook.)\n",
    "- Something is wrong about your left-handed pitch. It's the direction of the $\\omega_y$. A left-handed pitcher spins it in the opposite direction as a right-handed pitcher. Thus, the ball should travel in the $-z$ direction, compared to where it is released. I did find it interesting that you changed the initial z-position of the pitch. In your simulation, you probably should define $z=0$ as the center of the plate and then change the initial z-position for both the right-handed and left-handed pitches.\n",
    "- I see that you did add a view of the strike zone. But this should be a graph of $y$ vs. $z$. Also, scale the axis limits to be the strikezone.\n",
    "- Again, when plotting multiple pitches, the strike zone should be $y$ vs. $z$. The difference in x-positions is simply an artifact of stopping your simulation after the ball crosses the plate and $x$ is negative. Depending on the speed of the ball and size of the time step, the last data point is nearer to x=0 or more negative. This does not give you any insight into the pitch at all.\n",
    "\n",
    "**Note:** there is a lot of good in this project. I like your ideas, and you definitely attempted to investigate questions. However, there's also a lot of room for improvement. You need to get the visualization correct and get the initial values correct. Furthermore, you need to improve the writing. (A grammatical example is that you wrote \"through\" when you meant \"threw.\" But content and flow can be improved as well.)\n",
    "\n",
    "\n",
    "### Rubric Weights\n",
    "\n",
    "Category | Weight (%)\n",
    "--- |  ---\n",
    "Narrative |  40\n",
    "Code | 40\n",
    "Difficulty |  20\n",
    "\n",
    "### Grade"
   ]
  },
  {
   "cell_type": "code",
   "execution_count": 2,
   "id": "07b78562",
   "metadata": {},
   "outputs": [
    {
     "name": "stdout",
     "output_type": "stream",
     "text": [
      "Weighted Average = 84\n"
     ]
    }
   ],
   "source": [
    "weights = np.array([0.4,0.4,0.2])\n",
    "grades = np.array([ 80 , 80, 100 ])\n",
    "\n",
    "ave = np.dot(weights,grades)\n",
    "\n",
    "print(\"Weighted Average = {:.0f}\".format(ave))"
   ]
  },
  {
   "cell_type": "code",
   "execution_count": null,
   "id": "492ba2bc",
   "metadata": {},
   "outputs": [],
   "source": []
  }
 ],
 "metadata": {
  "kernelspec": {
   "display_name": "Python 3 (ipykernel)",
   "language": "python",
   "name": "python3"
  },
  "language_info": {
   "codemirror_mode": {
    "name": "ipython",
    "version": 3
   },
   "file_extension": ".py",
   "mimetype": "text/x-python",
   "name": "python",
   "nbconvert_exporter": "python",
   "pygments_lexer": "ipython3",
   "version": "3.9.7"
  }
 },
 "nbformat": 4,
 "nbformat_minor": 5
}
