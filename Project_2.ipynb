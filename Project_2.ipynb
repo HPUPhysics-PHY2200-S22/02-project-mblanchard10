{
 "cells": [
  {
   "cell_type": "markdown",
   "id": "d5bc0e14",
   "metadata": {},
   "source": [
    "# Modeling A Curveball Pitch\n",
    "Name: Michael Blanchard and Reilly Kobbe\n",
    "\n",
    "Class: PHY-2200\n",
    "\n",
    "Professor: Dr. Titus\n",
    "\n",
    "Description: For our second project, our goal was to model the trajectory of a curveball pitch. Once we completed the model, we changed some parameters and investigated the data produced. This includes pitching left-handed vs. right-handed and viewing multiple pitches with different spin rates and speed. We used real data from Baseball Savant.\n",
    "\n",
    "We based our project on the Magnus Effect. Magnus Force is the interaction of a spinning ball with everything around it. It effects the airflow around the object due to momentum. By having this effect, it allows the pitcher to throw a ball at the player and it curve far out to not hit the player. We used the parts of the magnus effect to below to module this phenomenon."
   ]
  },
  {
   "cell_type": "markdown",
   "id": "27a303c8",
   "metadata": {},
   "source": [
    "# ODE \n",
    "\n",
    "We used the Runge-Ketta 4 or RK4 method. This method is used to find oprdinary differential eqiuations (ODES). It calucaltes the solution in more broken up steps to find out the anwser to non linear equations. "
   ]
  },
  {
   "cell_type": "code",
   "execution_count": 2,
   "id": "faca6a07",
   "metadata": {},
   "outputs": [],
   "source": [
    "def RK4(diffeq, y0, t, h):\n",
    "    \"\"\" RK4 method for ODEs:\n",
    "        Given y0 at t, returns y1 at t+h \"\"\"\n",
    "    k1 = h*diffeq(y0, t)                    # dy/dt at t\n",
    "    k2 = h*diffeq(y0+0.5*k1, t + h/2.)      # dy/dt at t+h/2\n",
    "    k3 = h*diffeq(y0+0.5*k2, t + h/2.)      # dy/dt at t+h/2\n",
    "    k4 = h*diffeq(y0+k3, t + h)             # dy/dt at t+h\n",
    "    return y0 + (k1+k4)/6.0 + (k2+k3)/3.0"
   ]
  },
  {
   "cell_type": "code",
   "execution_count": 3,
   "id": "1d4cc610",
   "metadata": {},
   "outputs": [],
   "source": [
    "#import ode \n",
    "import numpy as np #used for arrays and numerical functions\n",
    "import pandas as pd #used for reading a data file\n",
    "import matplotlib.pyplot as plt #used for graphing\n",
    "from scipy.optimize import curve_fit #used to find the fit parameters"
   ]
  },
  {
   "cell_type": "code",
   "execution_count": 4,
   "id": "b2233b53",
   "metadata": {},
   "outputs": [],
   "source": [
    "#parameters\n",
    "g = 9.8 #N/kg\n",
    "rho = 1.2 #kg/m^3\n",
    "mu = 1.8e-5 #kg/m/s\n",
    "r = 74e-3/2 #74 mm diameter, 9.25\" in circumference\n",
    "A = np.pi*r**2 #cross-sectional area\n",
    "Cd = 0.5 #actually depends on speed\n",
    "m = 0.145 #kg\n",
    "b2 = 1/2*Cd*rho*A #will change as Cd changes\n",
    "\n",
    "S = 0.01 #will change as omega and v change (spin parameter)\n",
    "CL = 0 #will change with S\n",
    "alpha = 1/2*CL*rho*A*r/S\n",
    "\n",
    "#See 02-02 notes. Exeercise 2 talks about a curve ball pitch simulation. Look into how the Z coordinate plays a factor (sidespin vs. backspin)"
   ]
  },
  {
   "cell_type": "markdown",
   "id": "f246e258",
   "metadata": {},
   "source": [
    "# Data For a Singular Pitch\n",
    "We began our project by modeling a single pitch. To do this, we gathered pitch data from Baseball Savant. All we needed from the site was the speed of the curveball pitch and the spinrate of the ball.By having this specific information we were able to get a greater understanding of how the curve of a ball actually takes place. Additionally, we needed to account for how far the pitching mound is from home plate (initial x value) and how high the elevation is from the pitching mound to homeplate (initial y value).\n",
    "\n",
    "This was a tricky concept to grasp at first, as we originally thought the curve of the pitch would be the x value. However, after drawing diagrams and using the hand method, we were able to make sense of our inital positions. The x value models the lenght, the y value models the height, and the z value models the width. Using the z position, we can see the total distance curves after the pitch is thrown. \n",
    "\n",
    "Furthermore, we converted the speed of our pitch from MPH to M/S and the RPM spinrate into rad/s then stored them into an array."
   ]
  },
  {
   "cell_type": "code",
   "execution_count": 5,
   "id": "15361bb0",
   "metadata": {},
   "outputs": [],
   "source": [
    "# data for signle curve ball pitch\n",
    "Vmph = 80.2 #mph\n",
    "spinrate = 3046 #rpm\n",
    "\n",
    "# convert units and create initial conditions\n",
    "Vmag = Vmph*0.44704 #convert mph to m/s\n",
    "\n",
    "# initial position and velocity components\n",
    "x = 18.44 #meters from home plate\n",
    "y = 1.22 #elevation from homeplate\n",
    "z = 0 \n",
    "vx = -Vmag\n",
    "vy = 0\n",
    "vz = 0\n",
    "\n",
    "t = 0 #time in s\n",
    "h = 1e-2 #time step in s\n",
    "\n",
    "# initial angular speed and velocity\n",
    "omegamag = spinrate * 2*np.pi / 60 #convert to rad/s\n",
    "omegax = 0\n",
    "omegay = -omegamag\n",
    "omegaz = 0\n",
    "\n",
    "# lists for storing data to graph\n",
    "tlist = []\n",
    "xlist = []\n",
    "ylist = []\n",
    "zlist = []\n",
    "data = []\n",
    "\n",
    "# store initial values\n",
    "tlist.append(t)\n",
    "xlist.append(x)\n",
    "ylist.append(y)\n",
    "zlist.append(z)\n",
    "\n",
    "# array for instantaneous position and velocity data\n",
    "data = np.array([x, y, z, vx, vy, vz])\n",
    " "
   ]
  },
  {
   "cell_type": "markdown",
   "id": "8d185a77",
   "metadata": {},
   "source": [
    "# Drag Function\n",
    "We used the same quadratic drag function as used in class.The quadratic drag equation which is modeled in the quaddrag function allows us to see the forced that was experienced by the ball moving though space. Fortunatley, we did not have to make any changes here."
   ]
  },
  {
   "cell_type": "code",
   "execution_count": 6,
   "id": "bb4896f1",
   "metadata": {},
   "outputs": [],
   "source": [
    "def quaddrag(d, t):\n",
    "    x = d[0]\n",
    "    y = d[1]\n",
    "    z = d[2]\n",
    "    vx = d[3]\n",
    "    vy = d[4]\n",
    "    vz = d[5]\n",
    "    \n",
    "    dxdt = vx\n",
    "    dydt = vy\n",
    "    dzdt = vz\n",
    "    \n",
    "    v = np.sqrt(vx**2 + vy**2 + vz**2)\n",
    "    \n",
    "    Fdragx = -1/2*Cd*rho*A*v**2 * vx/v\n",
    "    Fdragy = -1/2*Cd*rho*A*v**2 * vy/v\n",
    "    Fdragz = -1/2*Cd*rho*A*v**2 * vz/v\n",
    "    \n",
    "    S = (r*omegamag)/v\n",
    "    CL = .62*(S**.7)\n",
    "    \n",
    "    Fmagnusx = 0.5 * CL * ((rho*A*r) / S ) * (omegay*vz - omegaz*vy)\n",
    "    Fmagnusy = 0.5 * CL * ((rho*A*r) / S ) * (omegay*vx - omegaz*vz)\n",
    "    Fmagnusz = 0.5 * CL * ((rho*A*r) / S ) * (omegay*vy - omegaz*vx)\n",
    "    \n",
    "    Fgravy = -m*g\n",
    "    Fnetx = Fdragx + Fmagnusx\n",
    "    Fnety = Fgravy + Fdragy + Fmagnusy\n",
    "    Fnetz = Fdragx + Fmagnusx\n",
    "    \n",
    "    dvxdt = Fnetx/m\n",
    "    dvydt = Fnety/m\n",
    "    dvzdt = Fnetz/m\n",
    "    \n",
    "    derivs = np.array([dxdt, dydt, dzdt, dvxdt, dvydt, dvzdt])\n",
    "    \n",
    "    return derivs\n",
    "    ###### You will have to edit the rest of the function"
   ]
  },
  {
   "cell_type": "markdown",
   "id": "2918273e",
   "metadata": {},
   "source": [
    "## Single Pitch Trajectory\n",
    "Our code to model the single pitch trajectory was the same as the trajectroy of hitting a baseball. However, we were able to assure the code was correct because of the curve in the graph. The x variable is 18 meters (the correct length from the mound to home plate) and the curve (z variable) was about 1.5 meters, which is very reasonable. By curve, we mean how far the ball traveled from left to right, or vice versa.\n",
    "\n",
    "It may seem strange that the x variable is not on the x axis. This is because we wanted to model the curve of the pitch from a top down view, not a side view. A side view would give us a straight line with a slight decline due to change in elevation. A top view allows us to see how significant the curve was."
   ]
  },
  {
   "cell_type": "code",
   "execution_count": 7,
   "id": "6f67a762",
   "metadata": {},
   "outputs": [
    {
     "data": {
      "image/png": "[encoded data removed]",
      "text/plain": [
       "<Figure size 576x432 with 1 Axes>"
      ]
     },
     "metadata": {
      "needs_background": "light"
     },
     "output_type": "display_data"
    }
   ],
   "source": [
    "# The Pitch Trajectory\n",
    "while x >= 0:\n",
    "    \n",
    "    data = RK4(quaddrag, data, t, h)\n",
    "    t = t + h\n",
    "    \n",
    "    x = data[0]\n",
    "    y = data[1]\n",
    "    z = data[2]\n",
    "    \n",
    "    tlist.append(t)\n",
    "    xlist.append(x)\n",
    "    ylist.append(y)\n",
    "    zlist.append(z)\n",
    "    \n",
    "# Plot the trajectory\n",
    "plt.figure(figsize = (8,6))\n",
    "plt.title(\"Trajectory of a Baseball with Quadratic Drag\")\n",
    "plt.xlabel(\"z (m)\")\n",
    "plt.ylabel(\"x (m)\")\n",
    "plt.plot(zlist, xlist)\n",
    "plt.show()"
   ]
  },
  {
   "cell_type": "markdown",
   "id": "8d391b1a",
   "metadata": {},
   "source": [
    "## Single Left Handed Pitch \n",
    "\n",
    "After plotting the trajectory of a single pitch, we wondered if the hand the ball was thrown in would have a large effect on the curve. Since the baseball player who statisitcs we took from was right hand dominant, we wanted to know if being left hand dominant, or right hand dominant effected the trajectory of a single pitch. We noticed that when a pitcher through the curve ball with thier left hand, the curve outwards was significantly larger. By throwing with your left hand, it cause the ball to curve out .8 meters longer. "
   ]
  },
  {
   "cell_type": "code",
   "execution_count": 8,
   "id": "0796bec4",
   "metadata": {},
   "outputs": [
    {
     "data": {
      "image/png": "[encoded data removed]",
      "text/plain": [
       "<Figure size 576x432 with 1 Axes>"
      ]
     },
     "metadata": {
      "needs_background": "light"
     },
     "output_type": "display_data"
    }
   ],
   "source": [
    "# data for signle curve ball pitch\n",
    "Vmph = 80.2 #mph\n",
    "spinrate = 3046 #rpm\n",
    "\n",
    "# convert units and create initial conditions\n",
    "Vmag = Vmph*0.44704 #convert mph to m/s\n",
    "\n",
    "# initial position and velocity components\n",
    "x = 18.44 #meters from home plate\n",
    "y = 1.22 #elevation from homeplate\n",
    "z2 = 0.87 #Distance across body from right hand to left hand\n",
    "vx = -Vmag\n",
    "vy = 0\n",
    "vz = 0\n",
    "\n",
    "t = 0 #time in s\n",
    "h = 1e-2 #time step in s\n",
    "\n",
    "# initial angular speed and velocity\n",
    "omegamag = spinrate * 2*np.pi / 60 #convert to rad/s\n",
    "omegax = 0\n",
    "omegay = -omegamag\n",
    "omegaz = 0\n",
    "\n",
    "# lists for storing data to graph\n",
    "tlist = []\n",
    "xlist = []\n",
    "ylist = []\n",
    "zlist = []\n",
    "data = []\n",
    "\n",
    "# store initial values\n",
    "tlist.append(t)\n",
    "xlist.append(x)\n",
    "ylist.append(y)\n",
    "zlist.append(z2)\n",
    "\n",
    "# array for instantaneous position and velocity data\n",
    "data = np.array([x, y, z2, vx, vy, vz])\n",
    "# The Pitch Trajectory\n",
    "while x >= 0:\n",
    "    \n",
    "    data = RK4(quaddrag, data, t, h)\n",
    "    t = t + h\n",
    "    \n",
    "    x = data[0]\n",
    "    y = data[1]\n",
    "    z2 = data[2]\n",
    "    \n",
    "    tlist.append(t)\n",
    "    xlist.append(x)\n",
    "    ylist.append(y)\n",
    "    zlist.append(z2)\n",
    "    \n",
    "# Plot the trajectory\n",
    "plt.figure(figsize = (8,6))\n",
    "plt.title(\"Trajectory of a Baseball with Quadratic Drag\")\n",
    "plt.xlabel(\"z (m)\")\n",
    "plt.ylabel(\"x (m)\")\n",
    "plt.plot(zlist, xlist)\n",
    "plt.show()"
   ]
  },
  {
   "cell_type": "markdown",
   "id": "3592826a",
   "metadata": {},
   "source": []
  },
  {
   "cell_type": "markdown",
   "id": "e0fb2ea9",
   "metadata": {},
   "source": [
    "# The Ending Position of a Single Pitch\n",
    "After plotting the trajectory of a pitch, we wanted to see what the end corrdiantes of the pitch were. To do this we used the [-1] value in our list. This represents the last value in the list, equating to the final position of the ball. We eventually repeated this process for multiple pitches to compare results."
   ]
  },
  {
   "cell_type": "code",
   "execution_count": 9,
   "id": "d0ec5e5d",
   "metadata": {},
   "outputs": [
    {
     "name": "stdout",
     "output_type": "stream",
     "text": [
      "X Position:  -0.07797\n",
      "Z Position:  2.42949\n"
     ]
    },
    {
     "data": {
      "image/png": "[encoded data removed]",
      "text/plain": [
       "<Figure size 576x432 with 1 Axes>"
      ]
     },
     "metadata": {
      "needs_background": "light"
     },
     "output_type": "display_data"
    }
   ],
   "source": [
    "# Ending Position Via Scatterplot \n",
    "while x >= 0:\n",
    "    \n",
    "    data = ode.RK4(quaddrag, data, t, h)\n",
    "    t = t + h\n",
    "    \n",
    "    x = data[0]\n",
    "    y = data[1]\n",
    "    z = data[2]\n",
    "    \n",
    "    tlist.append(t)\n",
    "    xlist.append(x)\n",
    "    ylist.append(y)\n",
    "    zlist.append(z)\n",
    "    \n",
    "print(\"X Position: \", round(xlist[-1],5))\n",
    "print(\"Z Position: \", round(zlist[-1],5))\n",
    "\n",
    "# Plot the trajectory\n",
    "plt.figure(figsize = (8,6))\n",
    "plt.title(\"Ending Position of Curveball\")\n",
    "plt.xlabel(\"z (m)\")\n",
    "plt.ylabel(\"x (m)\")\n",
    "plt.scatter(zlist[-1], xlist[-1])\n",
    "plt.show()"
   ]
  },
  {
   "cell_type": "markdown",
   "id": "a11adb59",
   "metadata": {},
   "source": [
    "# Multiple Pitches\n",
    "After we successfully modeled a single pitch, we modeled multiple pitches. To do this we needed more data so we decided to use 10 pitches total. After learning about how to implement data files in class, we imported our data from a separate file. To go through each pitch, we used a master for loop. Therefor, the code is very similar just reapeated 10 times over.\n",
    "\n",
    "Additionally, we implemented a nested while loop which was originally used to plot the data points in the code for a singular pitch. We needed to move this into the for loop so all position data points from each pitch could be calculated and put into an array. From here, we took the last X and Z data points from each pitch and stored them in separated arrays. This piece of code was the hardest when solving for multiple pitches.\n",
    "\n",
    "We inputed the Curved ball speed and spin rate in chart and named the file curveball.txt\n",
    "\n",
    "    Vmph    spinrate\n",
    "    79.2    3261\n",
    "    82.1    3224\n",
    "    86.6    3176\n",
    "    82.9    3169\n",
    "    84.1    3149\n",
    "    78.4    3144\n",
    "    80.2    3123\n",
    "    81.5    3054\n",
    "    80.6    3053\n",
    "    80.2    3046"
   ]
  },
  {
   "cell_type": "code",
   "execution_count": 11,
   "id": "33a43e23",
   "metadata": {},
   "outputs": [],
   "source": [
    "# data for multiple curve balls\n",
    "df = pd.read_csv('curveball.txt', sep='\\t')\n",
    "mphData = df['Vmph']\n",
    "spinData = df['spinrate']\n",
    "\n",
    "# lists for storing data to graph\n",
    "yendlist = []\n",
    "zendlist = []\n",
    "\n",
    "for i in range (0,10): #For Loop to loop through each pitch\n",
    "    xlist = []\n",
    "    ylist = []\n",
    "    zlist = []\n",
    "    tlist = []\n",
    "    data = []\n",
    "    \n",
    "    Vmph = mphData[i]\n",
    "    spinrate = spinData[i] \n",
    "    \n",
    "    # convert units and create initial conditions\n",
    "    Vmag = Vmph*0.44704 #convert mph to m/s\n",
    "\n",
    "    # initial position and velocity components\n",
    "    x = 17.44 #meters from home plate\n",
    "    y = 1 #meters high in comparison to home plate\n",
    "    z = 0\n",
    "    vx = -Vmag\n",
    "    vy = 0\n",
    "    vz = 0\n",
    "\n",
    "    t = 0 #time in s\n",
    "    h = 1e-2 #time step in s\n",
    "\n",
    "    # initial angular speed and velocity\n",
    "    omegamag = spinrate * 2*np.pi / 60 #convert to rad/s\n",
    "\n",
    "    omegax = 0\n",
    "    omegay = -omegamag\n",
    "    omegaz = 0\n",
    "    \n",
    "        # store initial values\n",
    "    tlist.append(t)\n",
    "    xlist.append(x)\n",
    "    ylist.append(y)\n",
    "    zlist.append(z)\n",
    "\n",
    "    # array for instantaneous position and velocity data\n",
    "    data = np.array([x, y, z, vx, vy, vz])\n",
    "    \n",
    "    # Ending Position Via Scatterplot \n",
    "    while x >= 0: #while loop to calculate the positions of the ball\n",
    "    \n",
    "        data = RK4(quaddrag, data, t, h)\n",
    "        t = t + h\n",
    "        \n",
    "        x = data[0]\n",
    "        y = data[1]\n",
    "        z = data[2]\n",
    "        \n",
    "        tlist.append(t)\n",
    "        xlist.append(x)\n",
    "        ylist.append(y)\n",
    "        zlist.append(z)\n",
    "        \n",
    "    #append the last position of each pitch into a list\n",
    "    yendlist.append(ylist[-1])\n",
    "    zendlist.append(zlist[-1])"
   ]
  },
  {
   "cell_type": "markdown",
   "id": "a1b178e8",
   "metadata": {},
   "source": [
    "# Plotting The Multiple Pitches\n",
    "Since the final data points were previously stored in xendlist and yendlist, all we had to do was plot. The entire graph represents homeplate and the data points represent where the pitch would have crossed home. We noticed a linear pattern in the data and wanted to try to linearize our data, as we learned in class.\n",
    "\n",
    "On a side note, it is reasonmable that the X variable is negative. The absolute center of homeplate would be zero, so the negative numbers just mean the pitch would land further back on home plate."
   ]
  },
  {
   "cell_type": "code",
   "execution_count": 12,
   "id": "ad4dff55",
   "metadata": {},
   "outputs": [
    {
     "data": {
      "image/png": "[encoded data removed]",
      "text/plain": [
       "<Figure size 576x432 with 1 Axes>"
      ]
     },
     "metadata": {
      "needs_background": "light"
     },
     "output_type": "display_data"
    }
   ],
   "source": [
    "#Plot The Data\n",
    "plt.figure(figsize = (8,6))\n",
    "plt.title(\"Pitches in The Strikezone\")\n",
    "plt.xlabel(\"z (m)\")\n",
    "plt.ylabel(\"y (m)\")\n",
    "plt.grid()\n",
    "plt.scatter(zendlist, yendlist)\n",
    "plt.show()"
   ]
  },
  {
   "cell_type": "code",
   "execution_count": null,
   "id": "a93d423f",
   "metadata": {},
   "outputs": [],
   "source": []
  },
  {
   "cell_type": "code",
   "execution_count": null,
   "id": "a1a6f8d8",
   "metadata": {},
   "outputs": [],
   "source": []
  }
 ],
 "metadata": {
  "kernelspec": {
   "display_name": "Python 3 (ipykernel)",
   "language": "python",
   "name": "python3"
  },
  "language_info": {
   "codemirror_mode": {
    "name": "ipython",
    "version": 3
   },
   "file_extension": ".py",
   "mimetype": "text/x-python",
   "name": "python",
   "nbconvert_exporter": "python",
   "pygments_lexer": "ipython3",
   "version": "3.9.7"
  }
 },
 "nbformat": 4,
 "nbformat_minor": 5
}
