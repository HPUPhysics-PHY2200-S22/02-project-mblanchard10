{
 "cells": [
  {
   "cell_type": "markdown",
   "id": "d5bc0e14",
   "metadata": {},
   "source": [
    "# Modeling A Curveball Pitch\n",
    "Name: Michael Blanchard and Reilly Kobbe\n",
    "\n",
    "Class: PHY-2200\n",
    "\n",
    "Professor: Dr. Titus\n",
    "\n",
    "Description: For our second project, our goal was to model the trajectory a curveball pitch. This includes viewing where the ball crosses the plate, a side view, and a top down view. After completing a single mode, we plotted mulitple pitches; specially we looked at where in the strike zone the curveball crossed. Additionally, we used different spinerates and velocities to get acurate data. We collected our data from the top 10 pitcher's average curveball leaderboard from Baseball Savant (https://baseballsavant.mlb.com/leaderboard/statcast?type=pitcher).\n",
    "\n",
    "We based our project around the Magnus Effect and drag. The Magnus Effect is sidewise force of a spinning spherical object within a gas or liquid. Drag is the opposing force acting on the ball. The combination of these two effects allows for a curveball. We wanted to investigate how these subjects effect the spin on a curveball. "
   ]
  },
  {
   "cell_type": "markdown",
   "id": "27a303c8",
   "metadata": {},
   "source": [
    "# ODE \n",
    "\n",
    "We used the Runge-Ketta 4 or RK4 method. This method is used to find ordinary differential eqiuations (ODES). This method uses repeated small steps to calculate the solution to non linear equations. "
   ]
  },
  {
   "cell_type": "code",
   "execution_count": 1,
   "id": "faca6a07",
   "metadata": {},
   "outputs": [],
   "source": [
    "def RK4(diffeq, y0, t, h):\n",
    "    \"\"\" RK4 method for ODEs:\n",
    "        Given y0 at t, returns y1 at t+h \"\"\"\n",
    "    k1 = h*diffeq(y0, t)                    # dy/dt at t\n",
    "    k2 = h*diffeq(y0+0.5*k1, t + h/2.)      # dy/dt at t+h/2\n",
    "    k3 = h*diffeq(y0+0.5*k2, t + h/2.)      # dy/dt at t+h/2\n",
    "    k4 = h*diffeq(y0+k3, t + h)             # dy/dt at t+h\n",
    "    return y0 + (k1+k4)/6.0 + (k2+k3)/3.0"
   ]
  },
  {
   "cell_type": "code",
   "execution_count": 2,
   "id": "1d4cc610",
   "metadata": {},
   "outputs": [],
   "source": [
    "#import ode \n",
    "import numpy as np #used for arrays and numerical functions\n",
    "import pandas as pd #used for reading a data file\n",
    "import matplotlib.pyplot as plt #used for graphing\n",
    "from scipy.optimize import curve_fit #used to find the fit parameters"
   ]
  },
  {
   "cell_type": "code",
   "execution_count": 3,
   "id": "b2233b53",
   "metadata": {},
   "outputs": [],
   "source": [
    "#parameters\n",
    "g = 9.8 #N/kg\n",
    "rho = 1.2 #kg/m^3\n",
    "mu = 1.8e-5 #kg/m/s\n",
    "r = 74e-3/2 #74 mm diameter, 9.25\" in circumference\n",
    "A = np.pi*r**2 #cross-sectional area\n",
    "Cd = 0.5 #actually depends on speed\n",
    "m = 0.145 #kg\n",
    "b2 = 1/2*Cd*rho*A #will change as Cd changes\n",
    "\n",
    "S = 0.01 #will change as omega and v change (spin parameter)\n",
    "CL = 0 #will change with S\n",
    "alpha = 1/2*CL*rho*A*r/S"
   ]
  },
  {
   "attachments": {
    "image.png": {
     "image/png": "[encoded data removed]"
    }
   },
   "cell_type": "markdown",
   "id": "f246e258",
   "metadata": {},
   "source": [
    "# Data For a Singular Pitch\n",
    "We began our project by modeling a single pitch. To do this, we gathered pitch data from Baseball Savant (as listed above). All we needed from the site was the speed of the curveball pitch and the spinrate of the ball. By having this information we were able to gain a greater understanding of the physics behind a curve in a curveball. Additionally, we needed to account for how far the pitching mound is from home plate (initial x value) and how high the elevation is from the pitching mound to homeplate (initial y value).\n",
    "\n",
    "An important part of this project was the coordinate system. We designed our system so y would coorespond to height, x would would coorespond to how far away the pitch was being thrown (i.e the distance from the pitchers mound to home plate), and z would coorespond to where the pitch was thrown over the plate from left to right.\n",
    "\n",
    "\n",
    "![image.png](attachment:image.png)"
   ]
  },
  {
   "cell_type": "code",
   "execution_count": 7,
   "id": "15361bb0",
   "metadata": {},
   "outputs": [],
   "source": [
    "# data for signle curve ball pitch\n",
    "Vmph = 80.2 #mph\n",
    "spinrate = 3046 #rpm\n",
    "\n",
    "# convert units and create initial conditions\n",
    "Vmag = Vmph*0.44704 #convert mph to m/s\n",
    "\n",
    "# initial position and velocity components\n",
    "x = 18.44 #meters from home plate\n",
    "y = 1.22 #elevation from homeplate\n",
    "z = 0 \n",
    "vx = -Vmag\n",
    "vy = 0\n",
    "vz = 0\n",
    "\n",
    "t = 0 #time in s\n",
    "h = 1e-2 #time step in s\n",
    "\n",
    "# initial angular speed and velocity\n",
    "omegamag = spinrate * 2*np.pi / 60 #convert to rad/s\n",
    "omegax = 0\n",
    "omegay = -omegamag\n",
    "omegaz = 0\n",
    "\n",
    "# lists for storing data to graph\n",
    "tlist = []\n",
    "xlist = []\n",
    "ylist = []\n",
    "zlist = []\n",
    "data = []\n",
    "\n",
    "# store initial values\n",
    "tlist.append(t)\n",
    "xlist.append(x)\n",
    "ylist.append(y)\n",
    "zlist.append(z)\n",
    "\n",
    "# array for instantaneous position and velocity data\n",
    "data = np.array([x, y, z, vx, vy, vz])\n",
    " "
   ]
  },
  {
   "cell_type": "markdown",
   "id": "d77fb0ce",
   "metadata": {},
   "source": [
    "## Drag Function\n",
    "The quadratic drag equation which is modeled in the quaddrag function allows us to see the forced that was experienced by the ball moving through space. Fortunatley, we did not have to make any changes here."
   ]
  },
  {
   "cell_type": "code",
   "execution_count": 5,
   "id": "bb4896f1",
   "metadata": {},
   "outputs": [],
   "source": [
    "def quaddrag(d, t):\n",
    "    x = d[0]\n",
    "    y = d[1]\n",
    "    z = d[2]\n",
    "    vx = d[3]\n",
    "    vy = d[4]\n",
    "    vz = d[5]\n",
    "    \n",
    "    dxdt = vx\n",
    "    dydt = vy\n",
    "    dzdt = vz\n",
    "    \n",
    "    v = np.sqrt(vx**2 + vy**2 + vz**2)\n",
    "    \n",
    "    Fdragx = -1/2*Cd*rho*A*v**2 * vx/v\n",
    "    Fdragy = -1/2*Cd*rho*A*v**2 * vy/v\n",
    "    Fdragz = -1/2*Cd*rho*A*v**2 * vz/v\n",
    "    \n",
    "    S = (r*omegamag)/v\n",
    "    CL = .62*(S**.7)\n",
    "    \n",
    "    Fmagnusx = 0.5 * CL * ((rho*A*r) / S ) * (omegay*vz - omegaz*vy)\n",
    "    Fmagnusy = 0.5 * CL * ((rho*A*r) / S ) * (omegay*vx - omegaz*vz)\n",
    "    Fmagnusz = 0.5 * CL * ((rho*A*r) / S ) * (omegay*vy - omegaz*vx)\n",
    "    \n",
    "    Fgravy = -m*g\n",
    "    Fnetx = Fdragx + Fmagnusx\n",
    "    Fnety = Fgravy + Fdragy + Fmagnusy\n",
    "    Fnetz = Fdragx + Fmagnusx\n",
    "    \n",
    "    dvxdt = Fnetx/m\n",
    "    dvydt = Fnety/m\n",
    "    dvzdt = Fnetz/m\n",
    "    \n",
    "    derivs = np.array([dxdt, dydt, dzdt, dvxdt, dvydt, dvzdt])\n",
    "    \n",
    "    return derivs"
   ]
  },
  {
   "cell_type": "markdown",
   "id": "2918273e",
   "metadata": {},
   "source": [
    "## Single Right Handed Pitch Trajectory\n",
    "Our code to model the single pitch trajectory was the same as the trajectroy of hitting a baseball. However, we were able to assure the code was correct because of the curve in the graph. The x variable is 18 meters (the correct length from the mound to home plate) and the curve (z variable) was about 1.5 meters, which is very reasonable. By curve, we mean how far the ball traveled from left to right, or vice versa.\n",
    "\n",
    "It may seem strange that the x variable is not on the x axis. This is because we wanted to model the pitch from a top down view, as it shows its horizontal curve. However, we also show a side view which demonstrates the decrease in elevation throughout the pitch. This happens because the pitcher is at a slight incline when on the mound. Therefor, the pitch has a decline when traveling towards homeplate."
   ]
  },
  {
   "cell_type": "code",
   "execution_count": 43,
   "id": "6f67a762",
   "metadata": {},
   "outputs": [
    {
     "data": {
      "image/png": "[encoded data removed]",
      "text/plain": [
       "<Figure size 576x432 with 1 Axes>"
      ]
     },
     "metadata": {
      "needs_background": "light"
     },
     "output_type": "display_data"
    }
   ],
   "source": [
    "# The Pitch Trajectory\n",
    "while x >= 0:\n",
    "    \n",
    "    data = RK4(quaddrag, data, t, h)\n",
    "    t = t + h\n",
    "    \n",
    "    x = data[0]\n",
    "    y = data[1]\n",
    "    z = data[2]\n",
    "    \n",
    "    tlist.append(t)\n",
    "    xlist.append(x)\n",
    "    ylist.append(y)\n",
    "    zlist.append(z)\n",
    "    \n",
    "# Plot the trajectory\n",
    "plt.figure(figsize = (8,6))\n",
    "plt.title(\"Top-Down View of Right Handed Curveball\")\n",
    "plt.xlabel(\"z (m)\")\n",
    "plt.ylabel(\"x (m)\")\n",
    "plt.plot(zlist, xlist)\n",
    "plt.show()\n"
   ]
  },
  {
   "cell_type": "code",
   "execution_count": 44,
   "id": "a9e8d222",
   "metadata": {},
   "outputs": [
    {
     "data": {
      "image/png": "[encoded data removed]",
      "text/plain": [
       "<Figure size 576x432 with 1 Axes>"
      ]
     },
     "metadata": {
      "needs_background": "light"
     },
     "output_type": "display_data"
    }
   ],
   "source": [
    "# Plot the side trajectory\n",
    "plt.figure(figsize = (8,6))\n",
    "plt.title(\"Side View of Right Handed Curveball\")\n",
    "plt.xlabel(\"z (m)\")\n",
    "plt.ylabel(\"x (m)\")\n",
    "plt.plot(ylist, xlist)\n",
    "plt.show()"
   ]
  },
  {
   "cell_type": "markdown",
   "id": "e0fb2ea9",
   "metadata": {},
   "source": [
    "# The Ending Position of a Single Pitch\n",
    "After plotting the trajectory of a pitch, we wanted to see what the end corrdiantes of the pitch were. To do this we used the [-1] value in our list. This represents the last value in the list, equating to the final position of the ball. We eventually repeated this process for multiple pitches to compare results."
   ]
  },
  {
   "cell_type": "code",
   "execution_count": 47,
   "id": "d0ec5e5d",
   "metadata": {},
   "outputs": [
    {
     "name": "stdout",
     "output_type": "stream",
     "text": [
      "Y Position:  -0.18357\n",
      "Z Position:  1.56726\n"
     ]
    },
    {
     "data": {
      "image/png": "[encoded data removed]",
      "text/plain": [
       "<Figure size 576x432 with 1 Axes>"
      ]
     },
     "metadata": {
      "needs_background": "light"
     },
     "output_type": "display_data"
    }
   ],
   "source": [
    "# Ending Position Via Scatterplot \n",
    "while x >= 0:\n",
    "    \n",
    "    data = ode.RK4(quaddrag, data, t, h)\n",
    "    t = t + h\n",
    "    \n",
    "    x = data[0]\n",
    "    y = data[1]\n",
    "    z = data[2]\n",
    "    \n",
    "    tlist.append(t)\n",
    "    xlist.append(x)\n",
    "    ylist.append(y)\n",
    "    zlist.append(z)\n",
    "    \n",
    "print(\"Y Position: \", round(ylist[-1],5))\n",
    "print(\"Z Position: \", round(zlist[-1],5))\n",
    "\n",
    "# Plot the trajectory\n",
    "plt.figure(figsize = (8,6))\n",
    "plt.title(\"Ending Position of Curveball\")\n",
    "plt.xlabel(\"z (m)\")\n",
    "plt.ylabel(\"y (m)\")\n",
    "plt.scatter(zlist[-1], ylist[-1])\n",
    "plt.show()"
   ]
  },
  {
   "cell_type": "markdown",
   "id": "a11adb59",
   "metadata": {},
   "source": [
    "# Multiple Pitches\n",
    "After we successfully modeled a single pitch, we modeled multiple pitches. To do this we needed more data so we decided to use 10 pitches total. After learning about how to implement data files in class, we imported our data from a separate file. As stated earlier, our data came from Baseball Savant. To go through each pitch, we used a master for loop. Therefor, the code is very similar just reapeated 10 times over.\n",
    "\n",
    "Additionally, we implemented a nested while loop which was originally used to plot the data points in the code for a singular pitch. We needed to move this into the for loop so all position data points from each pitch could be calculated and put into an array. From here, we took the last X and Z data points from each pitch and stored them in separated arrays. This piece of code was the hardest when solving for multiple pitches.\n",
    "\n",
    "We inputed the curveball speed and spinrate into a chart and named the file curveball.txt\n",
    "\n",
    "    Vmph    spinrate\n",
    "    79.2    3261\n",
    "    82.1    3224\n",
    "    86.6    3176\n",
    "    82.9    3169\n",
    "    84.1    3149\n",
    "    78.4    3144\n",
    "    80.2    3123\n",
    "    81.5    3054\n",
    "    80.6    3053\n",
    "    80.2    3046"
   ]
  },
  {
   "cell_type": "code",
   "execution_count": 48,
   "id": "33a43e23",
   "metadata": {},
   "outputs": [],
   "source": [
    "# data for multiple curve balls\n",
    "df = pd.read_csv('curveball.txt', sep='\\t')\n",
    "mphData = df['Vmph']\n",
    "spinData = df['spinrate']\n",
    "\n",
    "# lists for storing data to graph\n",
    "yendlist = []\n",
    "zendlist = []\n",
    "\n",
    "for i in range (0,10): #For Loop to loop through each pitch\n",
    "    xlist = []\n",
    "    ylist = []\n",
    "    zlist = []\n",
    "    tlist = []\n",
    "    data = []\n",
    "    \n",
    "    Vmph = mphData[i]\n",
    "    spinrate = spinData[i] \n",
    "    \n",
    "    # convert units and create initial conditions\n",
    "    Vmag = Vmph*0.44704 #convert mph to m/s\n",
    "\n",
    "    # initial position and velocity components\n",
    "    x = 17.44 #meters from home plate\n",
    "    y = 1 #meters high in comparison to home plate\n",
    "    z = 0\n",
    "    vx = -Vmag\n",
    "    vy = 0\n",
    "    vz = 0\n",
    "\n",
    "    t = 0 #time in s\n",
    "    h = 1e-2 #time step in s\n",
    "\n",
    "    # initial angular speed and velocity\n",
    "    omegamag = spinrate * 2*np.pi / 60 #convert to rad/s\n",
    "\n",
    "    omegax = 0\n",
    "    omegay = -omegamag\n",
    "    omegaz = 0\n",
    "    \n",
    "        # store initial values\n",
    "    tlist.append(t)\n",
    "    xlist.append(x)\n",
    "    ylist.append(y)\n",
    "    zlist.append(z)\n",
    "\n",
    "    # array for instantaneous position and velocity data\n",
    "    data = np.array([x, y, z, vx, vy, vz])\n",
    "    \n",
    "    # Ending Position Via Scatterplot \n",
    "    while x >= 0: #while loop to calculate the positions of the ball\n",
    "    \n",
    "        data = RK4(quaddrag, data, t, h)\n",
    "        t = t + h\n",
    "        \n",
    "        x = data[0]\n",
    "        y = data[1]\n",
    "        z = data[2]\n",
    "        \n",
    "        tlist.append(t)\n",
    "        xlist.append(x)\n",
    "        ylist.append(y)\n",
    "        zlist.append(z)\n",
    "        \n",
    "    #append the last position of each pitch into a list\n",
    "    yendlist.append(ylist[-1])\n",
    "    zendlist.append(zlist[-1])"
   ]
  },
  {
   "cell_type": "markdown",
   "id": "a1b178e8",
   "metadata": {},
   "source": [
    "# Plotting The Multiple Pitches\n",
    "Since the final data points were previously stored in xendlist and yendlist, all we had to do was plot. The entire graph represents the strikezone and the data points represent where the pitch would have crossed home. The data points are not scaled to match the size of a baseball. We can deem our data acurate becuase the pitches are focused towards the right side of the plate. "
   ]
  },
  {
   "cell_type": "code",
   "execution_count": 49,
   "id": "ad4dff55",
   "metadata": {},
   "outputs": [
    {
     "data": {
      "image/png": "[encoded data removed]",
      "text/plain": [
       "<Figure size 576x432 with 1 Axes>"
      ]
     },
     "metadata": {
      "needs_background": "light"
     },
     "output_type": "display_data"
    }
   ],
   "source": [
    "#Plot The Data\n",
    "plt.figure(figsize = (8,6))\n",
    "plt.title(\"Pitches in The Strikezone\")\n",
    "plt.xlabel(\"y (m)\")\n",
    "plt.ylabel(\"z (m)\")\n",
    "plt.grid()\n",
    "plt.xlim(.25,.75)\n",
    "plt.ylim(1,2)\n",
    "plt.scatter(yendlist, zendlist)\n",
    "#plt.plot(.5,1.35,-r)\n",
    "plt.show()"
   ]
  }
 ],
 "metadata": {
  "kernelspec": {
   "display_name": "Python 3 (ipykernel)",
   "language": "python",
   "name": "python3"
  },
  "language_info": {
   "codemirror_mode": {
    "name": "ipython",
    "version": 3
   },
   "file_extension": ".py",
   "mimetype": "text/x-python",
   "name": "python",
   "nbconvert_exporter": "python",
   "pygments_lexer": "ipython3",
   "version": "3.9.7"
  }
 },
 "nbformat": 4,
 "nbformat_minor": 5
}
